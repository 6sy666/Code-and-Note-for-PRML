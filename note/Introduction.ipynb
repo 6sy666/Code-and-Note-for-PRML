{
 "cells": [
  {
   "cell_type": "markdown",
   "metadata": {},
   "source": [
    "\n",
    "# 1.绪论\n",
    "寻找数据中的模式，应用十分广泛，比如行星运行规律为经典力学带来的的跳板作用，原子光谱规律对于量子力学发展的作用。\n",
    "\n",
    "**模式识别关注的重点**：发现数据中隐含的规律并利用这些规律进行数据分类等任务。\n",
    "\n"
   ]
  }
 ],
 "metadata": {
  "language_info": {
   "name": "python"
  },
  "orig_nbformat": 4
 },
 "nbformat": 4,
 "nbformat_minor": 2
}
